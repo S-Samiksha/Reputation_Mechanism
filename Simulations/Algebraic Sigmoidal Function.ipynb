{
 "cells": [
  {
   "cell_type": "markdown",
   "id": "4127ec64",
   "metadata": {},
   "source": [
    "# Creating Simulation Dataset"
   ]
  },
  {
   "cell_type": "code",
   "execution_count": 31,
   "id": "ffe2edbf",
   "metadata": {},
   "outputs": [],
   "source": [
    "#creating my own dataset for unsupervised learning\n",
    "\n",
    "AVG_PRICE = 100\n",
    "\n",
    "# the age follows gaussian distribution\n",
    "#1 year = 12months, 2 years = 24 months \n",
    "AVG_AGE = 12\n",
    "\n",
    "\n",
    "# Senior used 38 hours, 1 day = 24, 3.5days = 84 hours, 7 days = 168 hours\n",
    "MAX_TRANSACTION_DIFF = 168\n",
    "\n",
    "\n",
    "MAX_NUM_REVIEWS = 50\n",
    "\n",
    "A_VALUE = 50 # remains the same\n",
    "B_VALUE = 100 \n",
    "C_VALUE = 200\n",
    "BETA1 = 0.2\n",
    "BETA2 = 0.3\n",
    "BETA3 = 0.5\n",
    "BETA4 = 0.7"
   ]
  },
  {
   "cell_type": "code",
   "execution_count": 32,
   "id": "d88234d0",
   "metadata": {},
   "outputs": [],
   "source": [
    "# Importing Pandas to create DataFrame\n",
    "import pandas as pd\n",
    "import numpy as np\n",
    "import math\n",
    "\n",
    " \n",
    "# Creating Empty DataFrame and Storing it in variable df\n",
    "df = pd.DataFrame()\n",
    "\n",
    "'''\n",
    "Adapted from: \n",
    "https://www.reneshbedre.com/blog/random-dataset-norm-distribution-python.html\n",
    "https://www.statology.org/pandas-generate-random-data/\n",
    "https://towardsdatascience.com/the-ultimate-guide-for-column-creation-with-pandas-dataframes-83b8c565110e\n",
    "https://www.geeksforgeeks.org/different-ways-to-create-pandas-dataframe/\n",
    "'''\n",
    "\n",
    "df['account_age'] = np.random.normal(loc=0, scale=1, size=500)\n",
    "df['account_age'] = df.apply(lambda row: row['account_age']+AVG_AGE, axis=1)\n",
    "df['total_price_reviews'] = np.random.randint(1, AVG_PRICE, size=(500,1))\n",
    "df['time_btwn_transactions'] = np.random.randint(0,MAX_TRANSACTION_DIFF,size=(500, 1))\n",
    "df['total_reviews'] = np.random.randint(0,MAX_NUM_REVIEWS,size=(500, 1))\n",
    "df['old_x'] = 0\n",
    "df['old_rep_score'] = 0\n"
   ]
  },
  {
   "cell_type": "code",
   "execution_count": 33,
   "id": "4e482889",
   "metadata": {},
   "outputs": [
    {
     "data": {
      "text/html": [
       "<div>\n",
       "<style scoped>\n",
       "    .dataframe tbody tr th:only-of-type {\n",
       "        vertical-align: middle;\n",
       "    }\n",
       "\n",
       "    .dataframe tbody tr th {\n",
       "        vertical-align: top;\n",
       "    }\n",
       "\n",
       "    .dataframe thead th {\n",
       "        text-align: right;\n",
       "    }\n",
       "</style>\n",
       "<table border=\"1\" class=\"dataframe\">\n",
       "  <thead>\n",
       "    <tr style=\"text-align: right;\">\n",
       "      <th></th>\n",
       "      <th>account_age</th>\n",
       "      <th>total_price_reviews</th>\n",
       "      <th>time_btwn_transactions</th>\n",
       "      <th>total_reviews</th>\n",
       "      <th>old_x</th>\n",
       "      <th>old_rep_score</th>\n",
       "    </tr>\n",
       "  </thead>\n",
       "  <tbody>\n",
       "    <tr>\n",
       "      <th>0</th>\n",
       "      <td>14.929306</td>\n",
       "      <td>46</td>\n",
       "      <td>140</td>\n",
       "      <td>5</td>\n",
       "      <td>0</td>\n",
       "      <td>0</td>\n",
       "    </tr>\n",
       "    <tr>\n",
       "      <th>1</th>\n",
       "      <td>12.130946</td>\n",
       "      <td>66</td>\n",
       "      <td>153</td>\n",
       "      <td>16</td>\n",
       "      <td>0</td>\n",
       "      <td>0</td>\n",
       "    </tr>\n",
       "    <tr>\n",
       "      <th>2</th>\n",
       "      <td>9.440367</td>\n",
       "      <td>95</td>\n",
       "      <td>24</td>\n",
       "      <td>6</td>\n",
       "      <td>0</td>\n",
       "      <td>0</td>\n",
       "    </tr>\n",
       "    <tr>\n",
       "      <th>3</th>\n",
       "      <td>11.536687</td>\n",
       "      <td>99</td>\n",
       "      <td>88</td>\n",
       "      <td>16</td>\n",
       "      <td>0</td>\n",
       "      <td>0</td>\n",
       "    </tr>\n",
       "    <tr>\n",
       "      <th>4</th>\n",
       "      <td>13.084367</td>\n",
       "      <td>90</td>\n",
       "      <td>82</td>\n",
       "      <td>9</td>\n",
       "      <td>0</td>\n",
       "      <td>0</td>\n",
       "    </tr>\n",
       "    <tr>\n",
       "      <th>...</th>\n",
       "      <td>...</td>\n",
       "      <td>...</td>\n",
       "      <td>...</td>\n",
       "      <td>...</td>\n",
       "      <td>...</td>\n",
       "      <td>...</td>\n",
       "    </tr>\n",
       "    <tr>\n",
       "      <th>495</th>\n",
       "      <td>13.916301</td>\n",
       "      <td>47</td>\n",
       "      <td>151</td>\n",
       "      <td>17</td>\n",
       "      <td>0</td>\n",
       "      <td>0</td>\n",
       "    </tr>\n",
       "    <tr>\n",
       "      <th>496</th>\n",
       "      <td>11.983947</td>\n",
       "      <td>35</td>\n",
       "      <td>34</td>\n",
       "      <td>6</td>\n",
       "      <td>0</td>\n",
       "      <td>0</td>\n",
       "    </tr>\n",
       "    <tr>\n",
       "      <th>497</th>\n",
       "      <td>11.403583</td>\n",
       "      <td>9</td>\n",
       "      <td>59</td>\n",
       "      <td>48</td>\n",
       "      <td>0</td>\n",
       "      <td>0</td>\n",
       "    </tr>\n",
       "    <tr>\n",
       "      <th>498</th>\n",
       "      <td>13.788206</td>\n",
       "      <td>68</td>\n",
       "      <td>71</td>\n",
       "      <td>23</td>\n",
       "      <td>0</td>\n",
       "      <td>0</td>\n",
       "    </tr>\n",
       "    <tr>\n",
       "      <th>499</th>\n",
       "      <td>11.909684</td>\n",
       "      <td>99</td>\n",
       "      <td>151</td>\n",
       "      <td>41</td>\n",
       "      <td>0</td>\n",
       "      <td>0</td>\n",
       "    </tr>\n",
       "  </tbody>\n",
       "</table>\n",
       "<p>500 rows × 6 columns</p>\n",
       "</div>"
      ],
      "text/plain": [
       "     account_age  total_price_reviews  time_btwn_transactions  total_reviews  \\\n",
       "0      14.929306                   46                     140              5   \n",
       "1      12.130946                   66                     153             16   \n",
       "2       9.440367                   95                      24              6   \n",
       "3      11.536687                   99                      88             16   \n",
       "4      13.084367                   90                      82              9   \n",
       "..           ...                  ...                     ...            ...   \n",
       "495    13.916301                   47                     151             17   \n",
       "496    11.983947                   35                      34              6   \n",
       "497    11.403583                    9                      59             48   \n",
       "498    13.788206                   68                      71             23   \n",
       "499    11.909684                   99                     151             41   \n",
       "\n",
       "     old_x  old_rep_score  \n",
       "0        0              0  \n",
       "1        0              0  \n",
       "2        0              0  \n",
       "3        0              0  \n",
       "4        0              0  \n",
       "..     ...            ...  \n",
       "495      0              0  \n",
       "496      0              0  \n",
       "497      0              0  \n",
       "498      0              0  \n",
       "499      0              0  \n",
       "\n",
       "[500 rows x 6 columns]"
      ]
     },
     "execution_count": 33,
     "metadata": {},
     "output_type": "execute_result"
    }
   ],
   "source": [
    "df"
   ]
  },
  {
   "cell_type": "markdown",
   "id": "9dbfce64",
   "metadata": {},
   "source": [
    "# Calculating X and Reputation Score for Buyers"
   ]
  },
  {
   "cell_type": "code",
   "execution_count": 39,
   "id": "8fc85920",
   "metadata": {},
   "outputs": [],
   "source": [
    "# calculate the total assuming beta1, beta2, beta3, beta4 is all 1\n",
    "\n",
    "def calculateX(row):\n",
    "    global BETA1, BETA2, BETA3, BETA4\n",
    "    beta1 = BETA1\n",
    "    beta2 = BETA2\n",
    "    beta3 = BETA3\n",
    "    beta4 = BETA4\n",
    "    return row['old_x']+row['time_btwn_transactions']*beta1+row['account_age']*beta2+row['total_price_reviews']*beta3\n",
    "\n",
    "\n",
    "# calculating reputation score \n",
    "\n",
    "def calculateRep(row):\n",
    "    global A_VALUE, B_VALUE, C_VALUE\n",
    "    a = A_VALUE\n",
    "    b = B_VALUE\n",
    "    c = C_VALUE\n",
    "    temp1 = row['x_value']-b\n",
    "    temp2 = c + (row['x_value']-b)*(row['x_value']-b)\n",
    "    temp3 = temp1/math.sqrt(temp2)\n",
    "    temp4 = temp3 +1\n",
    "    return a * temp4\n",
    "    "
   ]
  },
  {
   "cell_type": "code",
   "execution_count": 40,
   "id": "9b2bb416",
   "metadata": {},
   "outputs": [],
   "source": [
    "df['x_value'] = df.apply(calculateX, axis=1)\n",
    "df['rep_score'] = df.apply(calculateRep, axis=1)"
   ]
  },
  {
   "cell_type": "code",
   "execution_count": 42,
   "id": "b1745e3b",
   "metadata": {},
   "outputs": [
    {
     "data": {
      "text/plain": [
       "<matplotlib.collections.PathCollection at 0x1d1d7338790>"
      ]
     },
     "execution_count": 42,
     "metadata": {},
     "output_type": "execute_result"
    },
    {
     "data": {
      "image/png": "[encoded data removed]",
      "text/plain": [
       "<Figure size 640x480 with 1 Axes>"
      ]
     },
     "metadata": {},
     "output_type": "display_data"
    }
   ],
   "source": [
    "import matplotlib.pyplot as plt\n",
    " \n",
    "\n",
    "plt.scatter(df['old_x'], df['old_rep_score'], c =\"blue\")"
   ]
  },
  {
   "cell_type": "code",
   "execution_count": 43,
   "id": "6c2b5435",
   "metadata": {},
   "outputs": [
    {
     "data": {
      "image/png": "[encoded data removed]",
      "text/plain": [
       "<Figure size 640x480 with 1 Axes>"
      ]
     },
     "metadata": {},
     "output_type": "display_data"
    },
    {
     "name": "stdout",
     "output_type": "stream",
     "text": [
      "Hyperparamters: \n",
      "a: 50\n",
      "b: 100\n",
      "c: 200\n",
      "beta1: 0.20\n",
      "beta2: 0.30\n",
      "beta3: 0.50\n",
      "beta4: 0.70\n"
     ]
    }
   ],
   "source": [
    "plt.scatter(df['x_value'], df['rep_score'], c =\"blue\")\n",
    " \n",
    "# To show the plot\n",
    "plt.show()\n",
    "print(\"Hyperparamters: \")\n",
    "print(\"a: %d\" % A_VALUE)\n",
    "print(\"b: %d\" % B_VALUE)\n",
    "print(\"c: %d\" % C_VALUE)\n",
    "print(\"beta1: %.2f\" % BETA1)\n",
    "print(\"beta2: %.2f\" % BETA2)\n",
    "print(\"beta3: %.2f\" % BETA3)\n",
    "print(\"beta4: %.2f\" % BETA4)"
   ]
  },
  {
   "cell_type": "markdown",
   "id": "f0a140a2",
   "metadata": {},
   "source": [
    "# Calculating X and Reputation Score for Sellers"
   ]
  },
  {
   "cell_type": "code",
   "execution_count": 43,
   "id": "d36f89e9",
   "metadata": {},
   "outputs": [
    {
     "name": "stdout",
     "output_type": "stream",
     "text": [
      "50.0091287091396\n"
     ]
    }
   ],
   "source": [
    "A_VALUE_S = 50 # remains the same\n",
    "\n",
    "#cvalue and betas value change together --> can change according to how tolerant the system wants to be \n",
    "#b_value is redundant \n",
    "B_VALUE_S = 0 \n",
    "C_VALUE_S = 3000\n",
    "BETA_S = 0.001\n",
    "\n",
    "# Creating Empty DataFrame and Storing it in variable df\n",
    "df1 = pd.DataFrame(np.random.randint(0,100,size=(500, 2)), columns=['review', 'reputation_score']) \n",
    "\n",
    "\n",
    "df1['review_reputation_score'] =df1.apply(lambda row: row['review']*row['reputation_score'], axis=1)\n",
    "\n",
    "def calculateX_S(oldX, rep_score, rincoming, raverage):\n",
    "    global BETA_S\n",
    "    return oldX + rep_score * (rincoming-raverage)*BETA_S\n",
    "\n",
    "\n",
    "# calculating reputation score \n",
    "\n",
    "def calculateRep_S(x):\n",
    "    global A_VALUE_S, B_VALUE_S, C_VALUE_S\n",
    "    a = A_VALUE_S\n",
    "    b = B_VALUE_S\n",
    "    c = C_VALUE_S\n",
    "    temp1 = x-b\n",
    "    temp2 = c + (x-b)*(x-b)\n",
    "    temp3 = temp1/math.sqrt(temp2)\n",
    "    temp4 = temp3 +1\n",
    "    return a * temp4\n",
    "\n",
    "\n",
    "AVG_REVIEW = 50 #start \n",
    "OLD_X = 0 #start\n",
    "R_INCOMING = 60\n",
    "REP_SCORE = 1\n",
    "AVG_REVIEW = calculateRep_S(calculateX_S(OLD_X, REP_SCORE, R_INCOMING, AVG_REVIEW))\n",
    "print(AVG_REVIEW)"
   ]
  },
  {
   "cell_type": "markdown",
   "id": "c43ea608",
   "metadata": {},
   "source": [
    "# Simulation 1: Can a user artificially inflate his reputation score within a short period of time? \n",
    "\n",
    "\n",
    "**Considerations**\n",
    "1. If so, what is the tolerance?\n",
    "2. How long before the reputation can be increased?\n"
   ]
  },
  {
   "cell_type": "code",
   "execution_count": null,
   "id": "f5b4cba0",
   "metadata": {},
   "outputs": [],
   "source": [
    "#declaring first time user parameters\n",
    "user_age = 0\n",
    "user_total_price_reviews = 0\n",
    "total_reviews = 0\n",
    "user_x = 0\n",
    "user_rep = 0\n",
    "\n",
    "repList = []\n",
    "xList = []\n",
    "repList.append(0)\n",
    "xList.append(0)\n",
    "\n",
    "#the user tries to inflate within a month and price 100wei\n",
    "    while user_rep < 100:\n",
    "        user_total_price_reviews += 100\n",
    "        total_reviews += 1\n",
    "        user_x = calculateX"
   ]
  },
  {
   "cell_type": "markdown",
   "id": "1dab5731",
   "metadata": {},
   "source": [
    "# Simulation 2: Can a user create multiple different accounts, to influence reviews? (spam attack with un trusted users)\n",
    "\n",
    "**Considerations**\n",
    "1. How tolerant is the system?\n",
    "2. How many accounts is needed before you can significantly increase?\n",
    "3. What parameters can we set?\n"
   ]
  },
  {
   "cell_type": "code",
   "execution_count": null,
   "id": "b2f3f8e0",
   "metadata": {},
   "outputs": [],
   "source": []
  },
  {
   "cell_type": "markdown",
   "id": "817dd201",
   "metadata": {},
   "source": [
    "# Simulation 3: Can a user create multiple different accounts, to influence reviews? (spam attack with fully trusted users)\n",
    "\n",
    "**Considerations**\n",
    "1. How tolerant is the system?\n",
    "2. How many accounts is needed before you can significantly increase?\n",
    "3. What parameters can we set?"
   ]
  },
  {
   "cell_type": "code",
   "execution_count": null,
   "id": "a1d7e75e",
   "metadata": {},
   "outputs": [],
   "source": []
  },
  {
   "cell_type": "markdown",
   "id": "b3766edc",
   "metadata": {},
   "source": [
    "# Simulation 4: Can a user create multiple different accounts, to influence reviews? (spam attack with mixed time gaps with low reputation score)\n",
    "\n",
    "**Considerations**\n",
    "1. How tolerant is the system?\n",
    "2. How many accounts is needed before you can significantly increase?\n",
    "3. What parameters can we set?"
   ]
  },
  {
   "cell_type": "code",
   "execution_count": null,
   "id": "3d471e82",
   "metadata": {},
   "outputs": [],
   "source": []
  },
  {
   "cell_type": "markdown",
   "id": "a342a3a9",
   "metadata": {},
   "source": [
    "# Simulation 5: Can a user create multiple different accounts, to influence reviews? (spam attack with only long time durations between the attacks)\n",
    "\n",
    "**Considerations**\n",
    "1. How tolerant is the system?\n",
    "2. How many accounts is needed before you can significantly increase?\n",
    "3. What parameters can we set?"
   ]
  },
  {
   "cell_type": "code",
   "execution_count": null,
   "id": "b12e9e2d",
   "metadata": {},
   "outputs": [],
   "source": []
  }
 ],
 "metadata": {
  "kernelspec": {
   "display_name": "Python 3 (ipykernel)",
   "language": "python",
   "name": "python3"
  },
  "language_info": {
   "codemirror_mode": {
    "name": "ipython",
    "version": 3
   },
   "file_extension": ".py",
   "mimetype": "text/x-python",
   "name": "python",
   "nbconvert_exporter": "python",
   "pygments_lexer": "ipython3",
   "version": "3.8.5"
  }
 },
 "nbformat": 4,
 "nbformat_minor": 5
}
